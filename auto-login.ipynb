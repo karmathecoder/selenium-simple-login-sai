{
 "cells": [
  {
   "cell_type": "code",
   "execution_count": null,
   "id": "11715409",
   "metadata": {},
   "outputs": [],
   "source": [
    "pip install notebook\n",
    "pip install selenium"
   ]
  },
  {
   "cell_type": "code",
   "execution_count": 4,
   "id": "5862ae81-b326-48c8-ae04-415be099da6a",
   "metadata": {},
   "outputs": [],
   "source": [
    "from selenium import webdriver\n",
    "from selenium.webdriver.common.by import By\n",
    "from selenium.webdriver.support.ui import WebDriverWait\n",
    "from selenium.webdriver.support import expected_conditions as EC"
   ]
  },
  {
   "cell_type": "code",
   "execution_count": 5,
   "id": "dc94c80f-bc96-4930-b880-a73ddce8fde0",
   "metadata": {},
   "outputs": [],
   "source": [
    "# Replace with the path to your webdriver executable\n",
    "driver = webdriver.Chrome()"
   ]
  },
  {
   "cell_type": "code",
   "execution_count": 6,
   "id": "3c4cdfa4-a504-49e0-9d98-ec3d9b3ee189",
   "metadata": {},
   "outputs": [],
   "source": [
    "# Maximize the window\n",
    "driver.maximize_window()"
   ]
  },
  {
   "cell_type": "code",
   "execution_count": 7,
   "id": "b7059708-f249-4ed7-a471-b76a11f6e5ae",
   "metadata": {},
   "outputs": [],
   "source": [
    "driver.get('https://practicetestautomation.com/practice-test-login/')"
   ]
  },
  {
   "cell_type": "code",
   "execution_count": 9,
   "id": "a7338794-19c2-4fd9-9c22-f024ca894dbf",
   "metadata": {},
   "outputs": [],
   "source": [
    "# Perform two insertion operations via XPath\n",
    "driver.find_element(By.XPATH, \"//input[@name='username']\").send_keys('student')"
   ]
  },
  {
   "cell_type": "code",
   "execution_count": 10,
   "id": "f2c44c08-43db-416d-80d8-4e9be4d03c62",
   "metadata": {},
   "outputs": [],
   "source": [
    "# Perform two insertion operations via XPath\n",
    "driver.find_element(By.XPATH, \"//input[@name='password']\").send_keys('Password123')"
   ]
  },
  {
   "cell_type": "code",
   "execution_count": 11,
   "id": "7ffa0753-24b6-491b-be49-3d89f7a34624",
   "metadata": {},
   "outputs": [],
   "source": [
    "# Perform two insertion operations via XPath\n",
    "driver.find_element(By.XPATH, \"//button[@id='submit']\").click()"
   ]
  },
  {
   "cell_type": "code",
   "execution_count": 12,
   "id": "072a1973-d8ca-4ed5-acaf-b43ea4a2ed0b",
   "metadata": {},
   "outputs": [],
   "source": [
    "driver.get('https://practicetestautomation.com/practice-test-login/')"
   ]
  },
  {
   "cell_type": "code",
   "execution_count": null,
   "id": "3cf0490f-cea4-492c-80e5-9f97e3687f80",
   "metadata": {},
   "outputs": [],
   "source": []
  }
 ],
 "metadata": {
  "kernelspec": {
   "display_name": "Python 3 (ipykernel)",
   "language": "python",
   "name": "python3"
  },
  "language_info": {
   "codemirror_mode": {
    "name": "ipython",
    "version": 3
   },
   "file_extension": ".py",
   "mimetype": "text/x-python",
   "name": "python",
   "nbconvert_exporter": "python",
   "pygments_lexer": "ipython3",
   "version": "3.10.6"
  }
 },
 "nbformat": 4,
 "nbformat_minor": 5
}
